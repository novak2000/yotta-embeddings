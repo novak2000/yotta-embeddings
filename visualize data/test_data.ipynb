{
 "cells": [
  {
   "cell_type": "code",
   "execution_count": 20,
   "metadata": {},
   "outputs": [],
   "source": [
    "from custom_models import EmbedCollator, YottaTrainer, YottaDatasetForTraining, YottaCollator, YottaEmbedder"
   ]
  },
  {
   "cell_type": "code",
   "execution_count": 23,
   "metadata": {},
   "outputs": [],
   "source": [
    "data_folder_path = '/drive02/novak/datasets/downloads/qa/'\n",
    "data_filenames = [\n",
    "    # 'eli5_question_answer.jsonl',\n",
    "    # 'yahoo_answers_title_answer.jsonl',\n",
    "    # 'gooaq_pairs.jsonl',\n",
    "    # 'stackexchange_duplicate_questions_title_title.jsonl',\n",
    "    # 'yahoo_answers_title_question.jsonl',\n",
    "      # 'yahoo_answers_question_answer.jsonl',\n",
    "    # 'wikihow.jsonl',\n",
    "    # 'NQ-train_pairs.jsonl',\n",
    "    # 'amazon-qa-train-pairs.jsonl',\n",
    "    # 'squad_pairs.jsonl',\n",
    "    # 'quora_duplicates.jsonl',\n",
    "    'PAQ_pairs.jsonl',\n",
    "    # 'msmarco-query_passage_negative_v2.jsonl',\n",
    "    # 'S2ORC_title_abstract.jsonl',\n",
    "    # 'yahoo_answers_title_answer.jsonl'\n",
    "]"
   ]
  },
  {
   "cell_type": "code",
   "execution_count": 25,
   "metadata": {},
   "outputs": [],
   "source": [
    "data_folder_path = '/drive02/novak/datasets/downloads/qa/'\n",
    "data_filenames = [\n",
    "    # 'eli5_question_answer.jsonl',\n",
    "    # 'yahoo_answers_title_answer.jsonl',\n",
    "    # 'gooaq_pairs.jsonl',\n",
    "    # 'stackexchange_duplicate_questions_title_title.jsonl',\n",
    "    # 'yahoo_answers_title_question.jsonl',\n",
    "    # 'yahoo_answers_question_answer.jsonl',\n",
    "    # 'wikihow.jsonl',\n",
    "    # 'NQ-train_pairs.jsonl',\n",
    "    # 'amazon-qa-train-pairs.jsonl',\n",
    "    # 'squad_pairs.jsonl',\n",
    "    # 'quora_duplicates.jsonl',\n",
    "    'PAQ_pairs.jsonl',\n",
    "    # 'msmarco-query_passage_negative_v2.jsonl',\n",
    "    'S2ORC_title_abstract.jsonl',\n",
    "    'yahoo_answers_title_answer.jsonl'\n",
    "    ## DODAJ msmarco-negatives, S2ORC\n",
    "]\n",
    "output_folder_path = '/drive02/novak/datasets/qa_datasets/'\n",
    "\n",
    "from tqdm import tqdm\n",
    "import json\n",
    "def refactor_dataset(old_path, new_path):\n",
    "    \n",
    "    with open(old_path) as rf:\n",
    "        with open(new_path, 'w') as wf:\n",
    "            for line in tqdm(rf):\n",
    "                data = json.loads(line)\n",
    "                wf.write(json.dumps({'query': data[0], 'pos': data[1]}) + '\\n')\n",
    "    print(f'done with {new_path}')"
   ]
  },
  {
   "cell_type": "code",
   "execution_count": 26,
   "metadata": {},
   "outputs": [
    {
     "name": "stderr",
     "output_type": "stream",
     "text": [
      "41769185it [07:02, 98923.41it/s] \n"
     ]
    },
    {
     "name": "stdout",
     "output_type": "stream",
     "text": [
      "done with /drive02/novak/datasets/qa_datasets/S2ORC_title_abstract.jsonl\n"
     ]
    },
    {
     "name": "stderr",
     "output_type": "stream",
     "text": [
      "1198260it [00:09, 120440.69it/s]"
     ]
    },
    {
     "name": "stdout",
     "output_type": "stream",
     "text": [
      "done with /drive02/novak/datasets/qa_datasets/yahoo_answers_title_answer.jsonl\n"
     ]
    },
    {
     "name": "stderr",
     "output_type": "stream",
     "text": [
      "\n"
     ]
    }
   ],
   "source": [
    "\n",
    "for dataset in data_filenames:\n",
    "    old_path = f'{data_folder_path}{dataset}'\n",
    "    new_path = f'{output_folder_path}{dataset}'\n",
    "    refactor_dataset(old_path, new_path)"
   ]
  },
  {
   "cell_type": "code",
   "execution_count": 17,
   "metadata": {},
   "outputs": [
    {
     "name": "stderr",
     "output_type": "stream",
     "text": [
      "0it [00:00, ?it/s]"
     ]
    },
    {
     "name": "stderr",
     "output_type": "stream",
     "text": [
      "500001it [00:04, 122142.09it/s]\n",
      "  4%|▍         | 20215/500001 [00:13<05:46, 1382.79it/s]"
     ]
    },
    {
     "name": "stdout",
     "output_type": "stream",
     "text": [
      "PAQ_pairs.jsonl\n",
      "prosecan query: 12.6433\n",
      "prosecan psg: 136.3601\n"
     ]
    },
    {
     "name": "stderr",
     "output_type": "stream",
     "text": [
      "  8%|▊         | 40320/500001 [00:26<04:37, 1657.68it/s]"
     ]
    },
    {
     "name": "stdout",
     "output_type": "stream",
     "text": [
      "PAQ_pairs.jsonl\n",
      "prosecan query: 12.6347\n",
      "prosecan psg: 136.305525\n"
     ]
    },
    {
     "name": "stderr",
     "output_type": "stream",
     "text": [
      " 12%|█▏        | 60209/500001 [00:39<04:53, 1496.33it/s]"
     ]
    },
    {
     "name": "stdout",
     "output_type": "stream",
     "text": [
      "PAQ_pairs.jsonl\n",
      "prosecan query: 12.63945\n",
      "prosecan psg: 136.26416666666665\n"
     ]
    },
    {
     "name": "stderr",
     "output_type": "stream",
     "text": [
      " 16%|█▌        | 80296/500001 [00:53<04:42, 1486.83it/s]"
     ]
    },
    {
     "name": "stdout",
     "output_type": "stream",
     "text": [
      "PAQ_pairs.jsonl\n",
      "prosecan query: 12.6392\n",
      "prosecan psg: 136.304925\n"
     ]
    },
    {
     "name": "stderr",
     "output_type": "stream",
     "text": [
      " 20%|██        | 100202/500001 [01:06<04:33, 1460.81it/s]"
     ]
    },
    {
     "name": "stdout",
     "output_type": "stream",
     "text": [
      "PAQ_pairs.jsonl\n",
      "prosecan query: 12.63661\n",
      "prosecan psg: 136.26771\n"
     ]
    },
    {
     "name": "stderr",
     "output_type": "stream",
     "text": [
      " 24%|██▍       | 120091/500001 [01:19<04:01, 1573.90it/s]"
     ]
    },
    {
     "name": "stdout",
     "output_type": "stream",
     "text": [
      "PAQ_pairs.jsonl\n",
      "prosecan query: 12.633383333333333\n",
      "prosecan psg: 136.26314166666666\n"
     ]
    },
    {
     "name": "stderr",
     "output_type": "stream",
     "text": [
      " 28%|██▊       | 140197/500001 [01:32<03:36, 1665.47it/s]"
     ]
    },
    {
     "name": "stdout",
     "output_type": "stream",
     "text": [
      "PAQ_pairs.jsonl\n",
      "prosecan query: 12.630592857142856\n",
      "prosecan psg: 136.24032857142856\n"
     ]
    },
    {
     "name": "stderr",
     "output_type": "stream",
     "text": [
      " 32%|███▏      | 160287/500001 [01:45<03:53, 1457.63it/s]"
     ]
    },
    {
     "name": "stdout",
     "output_type": "stream",
     "text": [
      "PAQ_pairs.jsonl\n",
      "prosecan query: 12.63118125\n",
      "prosecan psg: 136.2495125\n"
     ]
    },
    {
     "name": "stderr",
     "output_type": "stream",
     "text": [
      " 36%|███▌      | 180017/500001 [01:58<04:08, 1289.87it/s]"
     ]
    },
    {
     "name": "stdout",
     "output_type": "stream",
     "text": [
      "PAQ_pairs.jsonl\n",
      "prosecan query: 12.627088888888888\n",
      "prosecan psg: 136.24121666666667\n"
     ]
    },
    {
     "name": "stderr",
     "output_type": "stream",
     "text": [
      " 40%|████      | 200197/500001 [02:12<03:15, 1536.42it/s]"
     ]
    },
    {
     "name": "stdout",
     "output_type": "stream",
     "text": [
      "PAQ_pairs.jsonl\n",
      "prosecan query: 12.62808\n",
      "prosecan psg: 136.24099\n"
     ]
    },
    {
     "name": "stderr",
     "output_type": "stream",
     "text": [
      " 44%|████▍     | 220236/500001 [02:25<03:05, 1507.70it/s]"
     ]
    },
    {
     "name": "stdout",
     "output_type": "stream",
     "text": [
      "PAQ_pairs.jsonl\n",
      "prosecan query: 12.627563636363636\n",
      "prosecan psg: 136.23725909090908\n"
     ]
    },
    {
     "name": "stderr",
     "output_type": "stream",
     "text": [
      " 48%|████▊     | 240163/500001 [02:38<02:39, 1625.00it/s]"
     ]
    },
    {
     "name": "stdout",
     "output_type": "stream",
     "text": [
      "PAQ_pairs.jsonl\n",
      "prosecan query: 12.625633333333333\n",
      "prosecan psg: 136.23867083333334\n"
     ]
    },
    {
     "name": "stderr",
     "output_type": "stream",
     "text": [
      " 52%|█████▏    | 260190/500001 [02:52<02:31, 1577.80it/s]"
     ]
    },
    {
     "name": "stdout",
     "output_type": "stream",
     "text": [
      "PAQ_pairs.jsonl\n",
      "prosecan query: 12.625311538461538\n",
      "prosecan psg: 136.24166153846153\n"
     ]
    },
    {
     "name": "stderr",
     "output_type": "stream",
     "text": [
      " 56%|█████▌    | 280176/500001 [03:05<02:26, 1499.34it/s]"
     ]
    },
    {
     "name": "stdout",
     "output_type": "stream",
     "text": [
      "PAQ_pairs.jsonl\n",
      "prosecan query: 12.625375\n",
      "prosecan psg: 136.24039285714287\n"
     ]
    },
    {
     "name": "stderr",
     "output_type": "stream",
     "text": [
      " 60%|██████    | 300215/500001 [03:18<02:26, 1364.40it/s]"
     ]
    },
    {
     "name": "stdout",
     "output_type": "stream",
     "text": [
      "PAQ_pairs.jsonl\n",
      "prosecan query: 12.627163333333334\n",
      "prosecan psg: 136.24196666666666\n"
     ]
    },
    {
     "name": "stderr",
     "output_type": "stream",
     "text": [
      " 64%|██████▍   | 320204/500001 [03:32<02:10, 1374.00it/s]"
     ]
    },
    {
     "name": "stdout",
     "output_type": "stream",
     "text": [
      "PAQ_pairs.jsonl\n",
      "prosecan query: 12.627303125\n",
      "prosecan psg: 136.241525\n"
     ]
    },
    {
     "name": "stderr",
     "output_type": "stream",
     "text": [
      " 68%|██████▊   | 340272/500001 [03:45<01:35, 1673.75it/s]"
     ]
    },
    {
     "name": "stdout",
     "output_type": "stream",
     "text": [
      "PAQ_pairs.jsonl\n",
      "prosecan query: 12.62765\n",
      "prosecan psg: 136.24330882352942\n"
     ]
    },
    {
     "name": "stderr",
     "output_type": "stream",
     "text": [
      " 72%|███████▏  | 360273/500001 [03:58<01:44, 1343.50it/s]"
     ]
    },
    {
     "name": "stdout",
     "output_type": "stream",
     "text": [
      "PAQ_pairs.jsonl\n",
      "prosecan query: 12.628744444444445\n",
      "prosecan psg: 136.23856666666666\n"
     ]
    },
    {
     "name": "stderr",
     "output_type": "stream",
     "text": [
      " 76%|███████▌  | 380204/500001 [04:10<01:11, 1673.45it/s]"
     ]
    },
    {
     "name": "stdout",
     "output_type": "stream",
     "text": [
      "PAQ_pairs.jsonl\n",
      "prosecan query: 12.627686842105263\n",
      "prosecan psg: 136.23889210526315\n"
     ]
    },
    {
     "name": "stderr",
     "output_type": "stream",
     "text": [
      " 80%|████████  | 400312/500001 [04:24<01:00, 1650.99it/s]"
     ]
    },
    {
     "name": "stdout",
     "output_type": "stream",
     "text": [
      "PAQ_pairs.jsonl\n",
      "prosecan query: 12.6282175\n",
      "prosecan psg: 136.23978\n"
     ]
    },
    {
     "name": "stderr",
     "output_type": "stream",
     "text": [
      " 84%|████████▍ | 420201/500001 [04:37<00:48, 1658.53it/s]"
     ]
    },
    {
     "name": "stdout",
     "output_type": "stream",
     "text": [
      "PAQ_pairs.jsonl\n",
      "prosecan query: 12.62999761904762\n",
      "prosecan psg: 136.23085476190477\n"
     ]
    },
    {
     "name": "stderr",
     "output_type": "stream",
     "text": [
      " 88%|████████▊ | 440181/500001 [04:50<00:36, 1645.57it/s]"
     ]
    },
    {
     "name": "stdout",
     "output_type": "stream",
     "text": [
      "PAQ_pairs.jsonl\n",
      "prosecan query: 12.630081818181818\n",
      "prosecan psg: 136.23423863636364\n"
     ]
    },
    {
     "name": "stderr",
     "output_type": "stream",
     "text": [
      " 92%|█████████▏| 460262/500001 [05:03<00:28, 1390.37it/s]"
     ]
    },
    {
     "name": "stdout",
     "output_type": "stream",
     "text": [
      "PAQ_pairs.jsonl\n",
      "prosecan query: 12.629526086956522\n",
      "prosecan psg: 136.2308108695652\n"
     ]
    },
    {
     "name": "stderr",
     "output_type": "stream",
     "text": [
      " 96%|█████████▌| 480175/500001 [05:17<00:12, 1618.37it/s]"
     ]
    },
    {
     "name": "stdout",
     "output_type": "stream",
     "text": [
      "PAQ_pairs.jsonl\n",
      "prosecan query: 12.630527083333334\n",
      "prosecan psg: 136.2305\n"
     ]
    },
    {
     "name": "stderr",
     "output_type": "stream",
     "text": [
      "100%|██████████| 500001/500001 [05:30<00:00, 1512.98it/s]\n"
     ]
    },
    {
     "name": "stdout",
     "output_type": "stream",
     "text": [
      "PAQ_pairs.jsonl\n",
      "prosecan query: 12.629896\n",
      "prosecan psg: 136.22736\n",
      "********************\n",
      "PAQ_pairs.jsonl\n",
      "prosecan query: 12.629892740214519\n",
      "prosecan psg: 136.2273155453689\n"
     ]
    },
    {
     "data": {
      "image/png": "[encoded data removed]",
      "text/plain": [
       "<Figure size 640x480 with 1 Axes>"
      ]
     },
     "metadata": {},
     "output_type": "display_data"
    },
    {
     "data": {
      "image/png": "[encoded data removed]",
      "text/plain": [
       "<Figure size 640x480 with 1 Axes>"
      ]
     },
     "metadata": {},
     "output_type": "display_data"
    },
    {
     "name": "stdout",
     "output_type": "stream",
     "text": [
      "********************\n"
     ]
    }
   ],
   "source": [
    "import json\n",
    "from transformers import AutoTokenizer\n",
    "from tqdm import tqdm\n",
    "import matplotlib.pyplot as plt\n",
    "\n",
    "tokenizer = AutoTokenizer.from_pretrained('sentence-transformers/all-MiniLM-L12-v2')\n",
    "\n",
    "\n",
    "counter_q = {}\n",
    "counter_psg = {}\n",
    "for dataset in data_filenames:\n",
    "    \n",
    "    with open(f'{data_folder_path}{dataset}') as rf:\n",
    "        \n",
    "        limit = 500000\n",
    "        lines = []\n",
    "        for i, line in tqdm(enumerate(rf)):\n",
    "            if i>limit:\n",
    "                break\n",
    "            lines.append(json.loads(line))\n",
    "        counter_q[dataset] = []\n",
    "        counter_psg[dataset] = []\n",
    "        # lines = [json.loads(line) for line in tqdm(rf)]\n",
    "        sum_psg = 0.0\n",
    "        sum_q = 0.0\n",
    "        i=0\n",
    "        for line in tqdm(lines):\n",
    "            query, psg  = line[:2]\n",
    "            if i> limit:\n",
    "                break\n",
    "            \n",
    "            i+=1\n",
    "            query = tokenizer(\n",
    "                        query,\n",
    "                        padding=True,\n",
    "                        truncation=True,\n",
    "                        max_length=512,\n",
    "                        return_tensors=\"pt\",\n",
    "                    )\n",
    "            \n",
    "            psg = tokenizer(\n",
    "                        psg,\n",
    "                        padding=True,\n",
    "                        truncation=True,\n",
    "                        max_length=512,\n",
    "                        return_tensors=\"pt\",\n",
    "                    )\n",
    "            \n",
    "            sum_q += query['input_ids'].shape[1]\n",
    "            counter_q[dataset].append(query['input_ids'].shape[1])\n",
    "            sum_psg += psg['input_ids'].shape[1]\n",
    "            counter_psg[dataset].append(psg['input_ids'].shape[1])\n",
    "            \n",
    "            if i% 20000 ==0:\n",
    "                print(f'{dataset}')\n",
    "                print(f'prosecan query: {sum_q/i}')\n",
    "                print(f'prosecan psg: {sum_psg/i}')\n",
    "                \n",
    "            # print(query, psg)\n",
    "         \n",
    "        print('*'*20)\n",
    "        print(f'{dataset}')\n",
    "        print(f'prosecan query: {sum_q/i}')\n",
    "        print(f'prosecan psg: {sum_psg/i}')\n",
    "        x = counter_q[dataset]\n",
    "        plt.hist(x, bins=100)\n",
    "        plt.show()\n",
    "\n",
    "        x = counter_psg[dataset]\n",
    "        plt.hist(x, bins=100)\n",
    "        plt.show()\n",
    "        print('*'*20)"
   ]
  },
  {
   "cell_type": "code",
   "execution_count": null,
   "metadata": {},
   "outputs": [],
   "source": [
    "\n"
   ]
  },
  {
   "cell_type": "code",
   "execution_count": 6,
   "metadata": {},
   "outputs": [
    {
     "name": "stdout",
     "output_type": "stream",
     "text": [
      "1570\n",
      "40221\n"
     ]
    }
   ],
   "source": [
    "queries_test = '/drive02/novak/huggingface_cache/BeIR/cqadupstack/english/queries.jsonl'\n",
    "psg_test = '/drive02/novak/huggingface_cache/BeIR/cqadupstack/english/corpus.jsonl'\n",
    "\n",
    "with open(queries_test) as rf:\n",
    "    \n",
    "    queries = [ json.loads(line)['text'] for line in rf]\n",
    "    \n",
    "    print(len(queries))\n",
    "    \n",
    "with open(psg_test) as rf:\n",
    "    \n",
    "    psgs = [ json.loads(line)['text'] for line in rf]\n",
    "    \n",
    "    print(len(psgs))  \n",
    "    "
   ]
  },
  {
   "cell_type": "code",
   "execution_count": 7,
   "metadata": {},
   "outputs": [],
   "source": [
    "cnt_q = []\n",
    "cnt_psg = []\n",
    "\n",
    "for query in queries:\n",
    "    \n",
    "    query = tokenizer(\n",
    "            query,\n",
    "            padding=True,\n",
    "            truncation=True,\n",
    "            max_length=512,\n",
    "            return_tensors=\"pt\",\n",
    "        )\n",
    "    cnt_q.append(query['input_ids'].shape[1])\n",
    "            \n",
    "for psg in psgs:\n",
    "    psg = tokenizer(\n",
    "            psg,\n",
    "            padding=True,\n",
    "            truncation=True,\n",
    "            max_length=512,\n",
    "            return_tensors=\"pt\",\n",
    "        )\n",
    "    cnt_psg.append(psg['input_ids'].shape[1])\n",
    "    "
   ]
  },
  {
   "cell_type": "code",
   "execution_count": 8,
   "metadata": {},
   "outputs": [
    {
     "name": "stdout",
     "output_type": "stream",
     "text": [
      "********************\n",
      "test set\n"
     ]
    },
    {
     "data": {
      "image/png": "[encoded data removed]",
      "text/plain": [
       "<Figure size 640x480 with 1 Axes>"
      ]
     },
     "metadata": {},
     "output_type": "display_data"
    },
    {
     "data": {
      "image/png": "[encoded data removed]",
      "text/plain": [
       "<Figure size 640x480 with 1 Axes>"
      ]
     },
     "metadata": {},
     "output_type": "display_data"
    },
    {
     "name": "stdout",
     "output_type": "stream",
     "text": [
      "********************\n"
     ]
    }
   ],
   "source": [
    "print('*'*20)\n",
    "print(f'test set')\n",
    "# print(f'prosecan query: {sum_q/i}')\n",
    "# print(f'prosecan psg: {sum_psg/i}')\n",
    "x = cnt_q\n",
    "plt.hist(x, bins=100)\n",
    "plt.show()\n",
    "\n",
    "x = cnt_psg\n",
    "plt.hist(x, bins=100)\n",
    "plt.show()\n",
    "print('*'*20)"
   ]
  },
  {
   "cell_type": "code",
   "execution_count": 11,
   "metadata": {},
   "outputs": [
    {
     "data": {
      "text/plain": [
       "array([ 33.,  45.,  56.,  67.,  81.,  97., 119., 150., 213., 281., 454.])"
      ]
     },
     "execution_count": 11,
     "metadata": {},
     "output_type": "execute_result"
    }
   ],
   "source": [
    "import numpy as np\n",
    "\n",
    "np.percentile(cnt_psg, q=[10, 20, 30, 40, 50, 60, 70, 80, 90, 95, 99])"
   ]
  },
  {
   "cell_type": "code",
   "execution_count": null,
   "metadata": {},
   "outputs": [],
   "source": []
  }
 ],
 "metadata": {
  "kernelspec": {
   "display_name": "Python 3",
   "language": "python",
   "name": "python3"
  },
  "language_info": {
   "codemirror_mode": {
    "name": "ipython",
    "version": 3
   },
   "file_extension": ".py",
   "mimetype": "text/x-python",
   "name": "python",
   "nbconvert_exporter": "python",
   "pygments_lexer": "ipython3",
   "version": "3.8.10"
  }
 },
 "nbformat": 4,
 "nbformat_minor": 2
}
