{
 "cells": [
  {
   "cell_type": "code",
   "execution_count": null,
   "metadata": {},
   "outputs": [],
   "source": [
    "#imports\n",
    "from sentence_transformers import SentenceTransformer\n",
    "import os\n",
    "os.environ['HF_DATASETS_CACHE'] = '/drive2/novak/huggingface_cache/'\n",
    "os.environ['HUGGINGFACE_HUB_CACHE'] = '/drive2/novak/huggingface_cache/'\n",
    "    \n",
    "from mteb import MTEB"
   ]
  },
  {
   "cell_type": "code",
   "execution_count": null,
   "metadata": {},
   "outputs": [],
   "source": [
    "for i in range(2600, 0, -200):\n",
    "\n",
    "    model_name = f'./yotta-test-128-bigdata2/checkpoint-{i}/'\n",
    "    model_name_only = f'yotta-embedder-128-bigdata2/{i}'\n",
    "    model = SentenceTransformer(model_name, device='cuda')\n",
    "    evaluation = MTEB(tasks=['CQADupstackEnglishRetrieval', 'ArguAna'], task_langs=['en'])\n",
    "    res1 = evaluation.run(model, eval_splits=[\"test\"], output_folder=f\"./results/{model_name_only}\", verbosity=2)  \n",
    "    \n",
    "# model_name = 'all-MiniLM-L12-v2'\n",
    "# model_name_only = 'all-MiniLM-L12-v2-256'\n",
    "# model = SentenceTransformer(model_name, device='cuda')\n",
    "# evaluation = MTEB(tasks=['CQADupstackEnglishRetrieval'], task_langs=['en'])\n",
    "# res1 = evaluation.run(model, eval_splits=[\"test\"], output_folder=f\"./results/{model_name_only}\", verbosity=2)\n",
    "\n",
    "\n",
    "# model_name = 'thenlper/gte-small'\n",
    "# model_name_only = 'thenlper/gte-small-256'\n",
    "# model = SentenceTransformer(model_name, device='cuda')\n",
    "# evaluation = MTEB(tasks=['CQADupstackEnglishRetrieval'], task_langs=['en'])\n",
    "# res1 = evaluation.run(model, eval_splits=[\"test\"], output_folder=f\"./results/{model_name_only}\", verbosity=2)\n",
    "\n",
    "# model_name = 'thenlper/gte-base'\n",
    "# model_name_only = 'thenlper/gte-base-256'\n",
    "# model = SentenceTransformer(model_name, device='cuda')\n",
    "# evaluation = MTEB(tasks=['CQADupstackEnglishRetrieval'], task_langs=['en'])\n",
    "# res1 = evaluation.run(model, eval_splits=[\"test\"], output_folder=f\"./results/{model_name_only}\", verbosity=2)"
   ]
  },
  {
   "cell_type": "code",
   "execution_count": null,
   "metadata": {},
   "outputs": [],
   "source": [
    "i= 14000\n",
    "TASK_LIST_RETRIEVAL = [\n",
    "    \"ArguAna\",\n",
    "    \"CQADupstackEnglishRetrieval\",\n",
    "    \"FiQA2018\",\n",
    "    \"QuoraRetrieval\",\n",
    "    \"NQ\",\n",
    "    \"MSMARCO\",\n",
    "    \"DBPedia\",\n",
    "    \"NFCorpus\",\n",
    "    \"ClimateFEVER\",\n",
    "    \"HotpotQA\",\n",
    "    \"CQADupstackAndroidRetrieval\",\n",
    "    \"CQADupstackGamingRetrieval\",\n",
    "    \"CQADupstackGisRetrieval\",\n",
    "    \"CQADupstackMathematicaRetrieval\",\n",
    "    \"CQADupstackPhysicsRetrieval\",\n",
    "    \"CQADupstackProgrammersRetrieval\",\n",
    "    \"CQADupstackStatsRetrieval\",\n",
    "    \"CQADupstackTexRetrieval\",\n",
    "    \"CQADupstackUnixRetrieval\",\n",
    "    \"CQADupstackWebmastersRetrieval\",\n",
    "    \"CQADupstackWordpressRetrieval\",\n",
    "    \"SCIDOCS\",\n",
    "    \"SciFact\",\n",
    "    \"Touche2020\",\n",
    "    \"FEVER\",\n",
    "    \"TRECCOVID\",\n",
    "]\n",
    "model_name = f'./yotta-test-128-bigdata2/checkpoint-{i}/'\n",
    "model_name_only = f'yotta-embedder-128-bigdata2/{i}'\n",
    "model = SentenceTransformer(model_name, device='cuda')\n",
    "for task_name in TASK_LIST_RETRIEVAL:\n",
    "    evaluation = MTEB(tasks=[task_name], task_langs=['en'])\n",
    "    res1 = evaluation.run(model, eval_splits=[\"test\"], output_folder=f\"./results/{model_name_only}\", verbosity=2)"
   ]
  }
 ],
 "metadata": {
  "language_info": {
   "name": "python"
  }
 },
 "nbformat": 4,
 "nbformat_minor": 2
}
