{
 "cells": [
  {
   "cell_type": "code",
   "execution_count": 1,
   "metadata": {},
   "outputs": [],
   "source": [
    "import json\n",
    "import pandas as pd\n",
    "from tqdm import tqdm\n",
    " "
   ]
  },
  {
   "cell_type": "code",
   "execution_count": 2,
   "metadata": {},
   "outputs": [],
   "source": [
    "beir_data_folder = '/drive02/novak/huggingface_cache/BeIR/msmarco/'\n",
    "train_data_filepath = '/drive02/novak/datasets/qa_datasets/msmarco-query_passage_negative_v2.jsonl'"
   ]
  },
  {
   "cell_type": "code",
   "execution_count": 5,
   "metadata": {},
   "outputs": [
    {
     "name": "stderr",
     "output_type": "stream",
     "text": [
      "100%|██████████| 17579773/17579773 [01:03<00:00, 278889.78it/s]\n",
      "100%|██████████| 17579773/17579773 [00:08<00:00, 2004891.47it/s]\n",
      "100%|██████████| 17579773/17579773 [00:11<00:00, 1518921.90it/s]\n"
     ]
    }
   ],
   "source": [
    "## procitaj train q and p\n",
    "with open(train_data_filepath) as rf:\n",
    "    \n",
    "    train_data = [json.loads(line) for line in tqdm(rf.readlines())]\n",
    "\n",
    "    train_queries = [x['query'] for x in tqdm(train_data)]\n",
    "    \n",
    "    train_pos = [x['pos'] for x in tqdm(train_data)]\n"
   ]
  },
  {
   "cell_type": "code",
   "execution_count": 7,
   "metadata": {},
   "outputs": [
    {
     "name": "stderr",
     "output_type": "stream",
     "text": [
      "100%|██████████| 8841823/8841823 [01:59<00:00, 73725.20it/s] \n",
      "100%|██████████| 8841823/8841823 [00:06<00:00, 1384288.13it/s]\n"
     ]
    }
   ],
   "source": [
    "## procitaj test q and p\n",
    "with open(f'{beir_data_folder}queries.jsonl') as rf:\n",
    "    \n",
    "    test_data_q = [json.loads(line) for line in tqdm(rf.readlines())]\n",
    "\n",
    "    test_queries = [x['text'] for x in tqdm(test_data_q)]\n",
    "    \n",
    "with open(f'{beir_data_folder}corpus.jsonl') as rf:\n",
    "    \n",
    "    test_data_p = [json.loads(line) for line in tqdm(rf.readlines())]\n",
    "\n",
    "    test_pos = [x['text'] for x in tqdm(test_data_p)]"
   ]
  },
  {
   "cell_type": "code",
   "execution_count": 12,
   "metadata": {},
   "outputs": [],
   "source": [
    "## procitaj relacije train,dev,test\n",
    "# with open(f'{beir_data_folder}qrels/test.tsv') as rf:\n",
    "test_rel = pd.read_csv(f'{beir_data_folder}qrels/test.tsv', sep='\\t')\n",
    "dev_rel = pd.read_csv(f'{beir_data_folder}qrels/dev.tsv', sep='\\t')\n",
    "train_rel = pd.read_csv(f'{beir_data_folder}qrels/train.tsv', sep='\\t')"
   ]
  },
  {
   "cell_type": "code",
   "execution_count": 13,
   "metadata": {},
   "outputs": [
    {
     "name": "stderr",
     "output_type": "stream",
     "text": [
      "100%|██████████| 509962/509962 [00:00<00:00, 1075043.54it/s]\n",
      "100%|██████████| 8841823/8841823 [00:13<00:00, 657466.72it/s]\n"
     ]
    }
   ],
   "source": [
    "## kreiraj dict za id-to-text\n",
    "\n",
    "id_to_q = {data['_id']:data['text'] for data in tqdm(test_data_q)}\n",
    "id_to_p = {data['_id']:data['text'] for data in tqdm(test_data_p)}"
   ]
  },
  {
   "cell_type": "code",
   "execution_count": 37,
   "metadata": {},
   "outputs": [],
   "source": [
    "real_test_q_ids_set = set(test_rel[test_rel['score']>0]['query-id'].tolist())\n",
    "real_test_p_ids_set = set(test_rel[test_rel['score']>0]['corpus-id'].tolist())\n",
    "\n",
    "real_dev_q_ids_set = set(dev_rel[dev_rel['score']>0]['query-id'].tolist())\n",
    "real_dev_p_ids_set = set(dev_rel[dev_rel['score']>0]['corpus-id'].tolist())\n",
    "\n",
    "real_train_q_ids_set = set(train_rel[train_rel['score']>0]['query-id'].tolist())\n",
    "real_train_p_ids_set = set(train_rel[train_rel['score']>0]['corpus-id'].tolist())"
   ]
  },
  {
   "cell_type": "code",
   "execution_count": 39,
   "metadata": {},
   "outputs": [
    {
     "name": "stdout",
     "output_type": "stream",
     "text": [
      "43 4102\n",
      "6980 7433\n",
      "502939 516472\n"
     ]
    }
   ],
   "source": [
    "real_test_q = [id_to_q[str(i)] for i in real_test_q_ids_set]\n",
    "real_test_p = [id_to_p[str(i)] for i in real_test_p_ids_set]\n",
    "\n",
    "real_dev_q = [id_to_q[str(i)] for i in real_dev_q_ids_set]\n",
    "real_dev_p = [id_to_p[str(i)] for i in real_dev_p_ids_set]\n",
    "\n",
    "real_train_q = [id_to_q[str(i)] for i in real_train_q_ids_set]\n",
    "real_train_p = [id_to_p[str(i)] for i in real_train_p_ids_set]\n",
    "\n",
    "print(len(real_test_q), len(real_test_p))\n",
    "print(len(real_dev_q), len(real_dev_p))\n",
    "print(len(real_train_q), len(real_train_p))\n"
   ]
  },
  {
   "cell_type": "code",
   "execution_count": 34,
   "metadata": {},
   "outputs": [
    {
     "data": {
      "text/plain": [
       "4102"
      ]
     },
     "execution_count": 34,
     "metadata": {},
     "output_type": "execute_result"
    }
   ],
   "source": [
    "train_pos_set = set(train_pos)\n",
    "train_queries_set = set(train_queries)"
   ]
  },
  {
   "cell_type": "code",
   "execution_count": 43,
   "metadata": {},
   "outputs": [
    {
     "name": "stderr",
     "output_type": "stream",
     "text": [
      "100%|██████████| 6980/6980 [00:00<00:00, 1180922.19it/s]"
     ]
    },
    {
     "name": "stdout",
     "output_type": "stream",
     "text": [
      "0\n"
     ]
    },
    {
     "name": "stderr",
     "output_type": "stream",
     "text": [
      "\n"
     ]
    }
   ],
   "source": [
    "## test q se NE nalaze u train set-u\n",
    "## dev q se NE nalaze u train set-u\n",
    "## svi train q se nalaze u train set-u \n",
    "\n",
    "\n",
    "## 352 od 4102 tekstova iz test set-a se nalazi u nasem train set-u(nastalo zato sto se ovi tekstovi nalaze i u train set-u)\n",
    "## 306 od 7433 tekstova iz dev set-a se nalazi u nasem train set-u(nastalo zato sto se ovi tekstovi nalaze i u train set-u)\n",
    "## svi tekstovi iz train set-a se nalaze u nasem train set-u\n",
    "\n",
    "cnt = 0\n",
    "for x in tqdm(real_dev_q):\n",
    "    if x in train_queries_set:\n",
    "        cnt+=1\n",
    "print(cnt)"
   ]
  },
  {
   "cell_type": "code",
   "execution_count": 44,
   "metadata": {},
   "outputs": [],
   "source": [
    "## presek tekstova izmedju train,dev,test\n",
    "\n",
    "real_train_p_set = set(real_train_p)\n",
    "real_dev_p_set = set(real_dev_p)\n",
    "real_test_p_set = set(real_test_p)\n"
   ]
  },
  {
   "cell_type": "code",
   "execution_count": 48,
   "metadata": {},
   "outputs": [
    {
     "name": "stdout",
     "output_type": "stream",
     "text": [
      "set size dev:7433\n",
      "set size train:516470\n",
      "set size test:4101\n",
      "**************************************************\n",
      "presek dev i train:307\n",
      "presek test i train:354\n",
      "presek dev i test:5\n"
     ]
    }
   ],
   "source": [
    "print(f'set size dev:{len(real_dev_p_set)}')\n",
    "print(f'set size train:{len(real_train_p_set)}')\n",
    "print(f'set size test:{len(real_test_p_set)}')\n",
    "print('*'*50)\n",
    "print(f'presek dev i train:{len(real_train_p_set.intersection(real_dev_p_set))}')\n",
    "print(f'presek test i train:{len(real_train_p_set.intersection(real_test_p_set))}')\n",
    "print(f'presek dev i test:{len(real_test_p_set.intersection(real_dev_p_set))}')"
   ]
  },
  {
   "cell_type": "code",
   "execution_count": 8,
   "metadata": {},
   "outputs": [
    {
     "name": "stdout",
     "output_type": "stream",
     "text": [
      "train lens, diff q: 498970, diff p510865\n",
      "test lens, diff q: 509962, diff p8841661\n"
     ]
    }
   ],
   "source": [
    "## proveri da li se neki train q nalaze u test q \n",
    "\n",
    "print(f'train lens, diff q: {len(set(train_queries))}, diff p: {len(set(train_pos))}')\n",
    "\n",
    "print(f'test lens, diff q: {len(set(test_queries))}, diff p: {len(set(test_pos))}')\n"
   ]
  },
  {
   "cell_type": "code",
   "execution_count": null,
   "metadata": {},
   "outputs": [],
   "source": []
  }
 ],
 "metadata": {
  "kernelspec": {
   "display_name": "Python 3",
   "language": "python",
   "name": "python3"
  },
  "language_info": {
   "codemirror_mode": {
    "name": "ipython",
    "version": 3
   },
   "file_extension": ".py",
   "mimetype": "text/x-python",
   "name": "python",
   "nbconvert_exporter": "python",
   "pygments_lexer": "ipython3",
   "version": "3.8.10"
  }
 },
 "nbformat": 4,
 "nbformat_minor": 2
}
